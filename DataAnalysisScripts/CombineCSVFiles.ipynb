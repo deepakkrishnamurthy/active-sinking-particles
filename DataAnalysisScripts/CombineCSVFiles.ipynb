{
 "cells": [
  {
   "cell_type": "code",
   "execution_count": 1,
   "metadata": {},
   "outputs": [
    {
     "name": "stdout",
     "output_type": "stream",
     "text": [
      "['RotationalAnalysis_Sphere003_0_84.csv', 'RotationalAnalysis_Sphere004_111_135.csv', 'RotationalAnalysis_Sphere004_12_39.csv', 'RotationalAnalysis_Sphere004_135_157.csv', 'RotationalAnalysis_Sphere004_178_205.csv', 'RotationalAnalysis_Sphere004_238_260.csv', 'RotationalAnalysis_Sphere004_42_59.csv', 'RotationalAnalysis_Sphere004_42_73.csv', 'RotationalAnalysis_Sphere005_109_140.csv', 'RotationalAnalysis_Sphere005_40_79.csv', 'RotationalAnalysis_Sphere006_0_38.csv', 'RotationalAnalysis_Sphere006_0_86.csv', 'RotationalAnalysis_Sphere006_100_131.csv', 'RotationalAnalysis_Sphere006_116_141.csv', 'RotationalAnalysis_Sphere006_119_175.csv', 'RotationalAnalysis_Sphere006_146_161.csv', 'RotationalAnalysis_Sphere006_176_184.csv', 'RotationalAnalysis_Sphere006_187_213.csv', 'RotationalAnalysis_Sphere006_252_301.csv', 'RotationalAnalysis_Sphere006_27_47.csv', 'RotationalAnalysis_Sphere006_283_308.csv', 'RotationalAnalysis_Sphere006_28_45.csv', 'RotationalAnalysis_Sphere006_323_339.csv', 'RotationalAnalysis_Sphere006_361_383.csv', 'RotationalAnalysis_Sphere006_422_450.csv', 'RotationalAnalysis_Sphere006_440_471.csv', 'RotationalAnalysis_Sphere006_621_630.csv', 'RotationalAnalysis_Sphere006_655_668.csv', 'RotationalAnalysis_Sphere006_728_754.csv', 'RotationalAnalysis_Sphere006_795_806.csv', 'RotationalAnalysis_Sphere006_894_942.csv', 'RotationalAnalysis_Sphere007_230_248.csv', 'RotationalAnalysis_Sphere007_265_295.csv', 'RotationalAnalysis_Sphere007_32_41.csv', 'RotationalAnalysis_Sphere007_367_383.csv', 'RotationalAnalysis_Sphere007_46_55.csv', 'RotationalAnalysis_Sphere007_77_83.csv', 'RotationalAnalysis_Sphere008_17_42.csv', 'RotationalAnalysis_Sphere009_0_39.csv', 'RotationalAnalysis_Sphere009_66_119.csv', 'RotationalAnalysis_Sphere011_4_25.csv', 'RotationalAnalysis_Sphere011_59_120.csv', 'RotationalAnalysis_Sphere012_122_197.csv', 'RotationalAnalysis_Sphere012_200_269.csv', 'RotationalAnalysis_Sphere012_83_122.csv', 'RotationalAnalysis_Sphere013_101_113.csv', 'RotationalAnalysis_Sphere013_144_159.csv', 'RotationalAnalysis_Sphere013_163_183.csv', 'RotationalAnalysis_Sphere013_193_202.csv', 'RotationalAnalysis_Sphere013_227_243.csv', 'RotationalAnalysis_Sphere013_275_307.csv', 'RotationalAnalysis_Sphere013_339_349.csv', 'RotationalAnalysis_Sphere013_366_390.csv', 'RotationalAnalysis_Sphere013_415_431.csv', 'RotationalAnalysis_Sphere013_434_453.csv', 'RotationalAnalysis_Sphere013_49_62.csv', 'RotationalAnalysis_Sphere013_505_532.csv', 'RotationalAnalysis_Sphere013_63_73.csv', 'RotationalAnalysis_Sphere013_660_674.csv', 'RotationalAnalysis_Sphere013_764_799.csv', 'RotationalAnalysis_Sphere015_0_84.csv', 'RotationalAnalysis_Sphere015_104_121.csv', 'RotationalAnalysis_Sphere015_15_55.csv']\n"
     ]
    }
   ],
   "source": [
    "# This is  ascript to combine multiple CSV files of the same kind of data\n",
    "\n",
    "import os\n",
    "import glob\n",
    "import pandas as pd\n",
    "# os.chdir(\"C:/Users/Deepak/Dropbox/GravityMachine/ExperimentResults/MSD_Analysis/TaylorFunctionFitting_Analysis\")\n",
    "# os.chdir(\"C:/Users/Deepak/Dropbox/GravityMachine/ExperimentResults/Entropy_Analysis/MSE_calculation\")\n",
    "# os.chdir('C:/Users/Deepak/Dropbox/GravityMachine/ExperimentResults/MSD_Analysis/MSD_trajectories')\n",
    "# os.chdir('C:/Users/Deepak/Dropbox/GravityMachine/ExperimentResults/HelicalTrajectory_Analysis')\n",
    "os.chdir('C:/Users/Deepak/Dropbox/ActiveMassTransport_Vorticella_SinkingAggregates/RotationalAnalysis/FinalAnalysis/RotationalAnalysis_Fitting_Results')\n",
    "extension = 'csv'\n",
    "all_filenames = [i for i in glob.glob('*.{}'.format(extension))]\n",
    "\n",
    "print(all_filenames)\n",
    "\n",
    "combined_csv = pd.concat([pd.read_csv(f) for f in all_filenames])\n",
    "#export to csv\n",
    "os.chdir('C:/Users/Deepak/Dropbox/ActiveMassTransport_Vorticella_SinkingAggregates/RotationalAnalysis/FinalAnalysis')\n",
    "\n",
    "combined_csv.to_csv( \"RotationalAnalysis_combined.csv\", index=False, encoding='utf-8-sig')"
   ]
  },
  {
   "cell_type": "code",
   "execution_count": null,
   "metadata": {},
   "outputs": [],
   "source": []
  }
 ],
 "metadata": {
  "kernelspec": {
   "display_name": "Python 3",
   "language": "python",
   "name": "python3"
  },
  "language_info": {
   "codemirror_mode": {
    "name": "ipython",
    "version": 3
   },
   "file_extension": ".py",
   "mimetype": "text/x-python",
   "name": "python",
   "nbconvert_exporter": "python",
   "pygments_lexer": "ipython3",
   "version": "3.6.9"
  }
 },
 "nbformat": 4,
 "nbformat_minor": 2
}
