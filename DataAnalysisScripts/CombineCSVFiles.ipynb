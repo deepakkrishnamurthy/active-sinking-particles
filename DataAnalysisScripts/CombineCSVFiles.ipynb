{
 "cells": [
  {
   "cell_type": "code",
   "execution_count": 7,
   "metadata": {},
   "outputs": [
    {
     "name": "stdout",
     "output_type": "stream",
     "text": [
      "['Acorn worm_No light_MSE.csv', 'Akashiwo_Ambient light_Down_MSE.csv', 'Brittletstar_No light_MSE.csv', 'Ceratium_sp_Fork_Ambient light_MSE.csv', 'Dendraster_No light_MSE.csv', 'Polychaete_Day_MSE.csv', 'Sea cucumber_No light_MSE.csv', 'Sea urchin_No light_MSE.csv', 'Snail_No light_MSE.csv', 'Starfish_No light_MSE.csv', 'Stentor_No light_MSE.csv', 'Volvox_Light step response_MSE.csv', 'Volvox_No light_MSE.csv']\n"
     ]
    }
   ],
   "source": [
    "# This is  ascript to combine multiple CSV files of the same kind of data\n",
    "\n",
    "import os\n",
    "import glob\n",
    "import pandas as pd\n",
    "# os.chdir(\"C:/Users/Deepak/Dropbox/GravityMachine/ExperimentResults/MSD_Analysis/TaylorFunctionFitting_Analysis\")\n",
    "os.chdir(\"C:/Users/Deepak/Dropbox/GravityMachine/ExperimentResults/Entropy_Analysis/MSE_calculation\")\n",
    "# os.chdir('C:/Users/Deepak/Dropbox/GravityMachine/ExperimentResults/MSD_Analysis/MSD_trajectories')\n",
    "extension = 'csv'\n",
    "all_filenames = [i for i in glob.glob('*.{}'.format(extension))]\n",
    "\n",
    "print(all_filenames)\n",
    "\n",
    "combined_csv = pd.concat([pd.read_csv(f) for f in all_filenames])\n",
    "#export to csv\n",
    "os.chdir('C:/Users/Deepak/Dropbox/GravityMachine/ExperimentResults/CombinedDatasets')\n",
    "\n",
    "combined_csv.to_csv( \"MSE_calculation_combined.csv\", index=False, encoding='utf-8-sig')"
   ]
  },
  {
   "cell_type": "code",
   "execution_count": null,
   "metadata": {},
   "outputs": [],
   "source": []
  }
 ],
 "metadata": {
  "kernelspec": {
   "display_name": "Python 3",
   "language": "python",
   "name": "python3"
  },
  "language_info": {
   "codemirror_mode": {
    "name": "ipython",
    "version": 3
   },
   "file_extension": ".py",
   "mimetype": "text/x-python",
   "name": "python",
   "nbconvert_exporter": "python",
   "pygments_lexer": "ipython3",
   "version": "3.6.9"
  }
 },
 "nbformat": 4,
 "nbformat_minor": 2
}
