{
 "cells": [
  {
   "cell_type": "code",
   "execution_count": 45,
   "metadata": {},
   "outputs": [
    {
     "name": "stdout",
     "output_type": "stream",
     "text": [
      "--------------------------------------------------\n",
      "Unique condition : [('Polychaete', 'Day')]\n",
      "--------------------------------------------------\n",
      "Organism                                              Polychaete\n",
      "Condition                                                    Day\n",
      "rootFolder     /Volumes/GRAVMACH1/HopkinsEmbroyologyCourse_Go...\n",
      "trackFolder                                          Polychaete1\n",
      "trackFile                                          track_mod.csv\n",
      "Tmin                                                           0\n",
      "Tmax                                                         112\n",
      "Name: 0, dtype: object\n",
      "Opening dataset ...\n",
      "Path : /Volumes/GRAVMACH1/HopkinsEmbroyologyCourse_GoodData/2018_06_12/Polychaete_4D/Polychaete1\n",
      "images\n",
      "PIVres\n",
      "Polych\n",
      "['Time', 'Xobjet', 'Yobjet', 'Zobjet', 'ThetaWheel', 'ZobjWheel', 'Manual Tracking', 'Image name', 'Focus Measure', 'Liquid Lens Phase', 'Y FM maximum', 'LEDPanel color R', 'LEDPanel color G', 'LEDPanel color B']\n",
      "0\n",
      "7754\n",
      "Pixels per mm: 314.0\n",
      "Organism                                              Polychaete\n",
      "Condition                                                    Day\n",
      "rootFolder     /Volumes/GRAVMACH1/HopkinsEmbroyologyCourse_Go...\n",
      "trackFolder                                          Polychaete2\n",
      "trackFile                                          track_mod.csv\n",
      "Tmin                                                           0\n",
      "Tmax                                                         113\n",
      "Name: 1, dtype: object\n",
      "Opening dataset ...\n",
      "Path : /Volumes/GRAVMACH1/HopkinsEmbroyologyCourse_GoodData/2018_06_12/Polychaete_4D/Polychaete2\n",
      "images\n",
      "PIVres\n",
      "Polych\n",
      "['Time', 'Xobjet', 'Yobjet', 'Zobjet', 'ThetaWheel', 'ZobjWheel', 'Manual Tracking', 'Image name', 'Focus Measure', 'Liquid Lens Phase', 'Y FM maximum', 'LEDPanel color R', 'LEDPanel color G', 'LEDPanel color B']\n",
      "0\n",
      "3026\n",
      "Pixels per mm: 314.0\n",
      "Organism                                              Polychaete\n",
      "Condition                                                    Day\n",
      "rootFolder     /Volumes/GRAVMACH1/HopkinsEmbroyologyCourse_Go...\n",
      "trackFolder                                          Polychaete3\n",
      "trackFile                                          track_mod.csv\n",
      "Tmin                                                           0\n",
      "Tmax                                                          37\n",
      "Name: 2, dtype: object\n",
      "Opening dataset ...\n",
      "Path : /Volumes/GRAVMACH1/HopkinsEmbroyologyCourse_GoodData/2018_06_12/Polychaete_4D/Polychaete3\n",
      "images\n",
      "PIVres\n",
      "Polych\n",
      "['Time', 'Xobjet', 'Yobjet', 'Zobjet', 'ThetaWheel', 'ZobjWheel', 'Manual Tracking', 'Image name', 'Focus Measure', 'Liquid Lens Phase', 'Y FM maximum', 'LEDPanel color R', 'LEDPanel color G', 'LEDPanel color B']\n",
      "0\n",
      "2097\n",
      "Pixels per mm: 314.0\n",
      "Organism                                              Polychaete\n",
      "Condition                                                    Day\n",
      "rootFolder     /Volumes/GRAVMACH1/HopkinsEmbroyologyCourse_Go...\n",
      "trackFolder                                          Polychaete4\n",
      "trackFile                                          track_mod.csv\n",
      "Tmin                                                           0\n",
      "Tmax                                                          55\n",
      "Name: 3, dtype: object\n",
      "Opening dataset ...\n",
      "Path : /Volumes/GRAVMACH1/HopkinsEmbroyologyCourse_GoodData/2018_06_12/Polychaete_4D/Polychaete4\n",
      "images\n",
      "PIVres\n",
      "Polych\n",
      "['Time', 'Xobjet', 'Yobjet', 'Zobjet', 'ThetaWheel', 'ZobjWheel', 'Manual Tracking', 'Image name', 'Focus Measure', 'Liquid Lens Phase', 'Y FM maximum', 'LEDPanel color R', 'LEDPanel color G', 'LEDPanel color B']\n",
      "0\n",
      "3139\n",
      "Pixels per mm: 314.0\n",
      "Organism                                              Polychaete\n",
      "Condition                                                    Day\n",
      "rootFolder     /Volumes/GRAVMACH1/HopkinsEmbroyologyCourse_Go...\n",
      "trackFolder                                          Polychaete6\n",
      "trackFile                                          track_mod.csv\n",
      "Tmin                                                           0\n",
      "Tmax                                                         113\n",
      "Name: 4, dtype: object\n",
      "Opening dataset ...\n",
      "Path : /Volumes/GRAVMACH1/HopkinsEmbroyologyCourse_GoodData/2018_06_12/Polychaete_4D/Polychaete6\n",
      "images\n",
      "images\n",
      "PIVres\n",
      "Polych\n",
      "['Time', 'Xobjet', 'Yobjet', 'Zobjet', 'ThetaWheel', 'ZobjWheel', 'Manual Tracking', 'Image name', 'Focus Measure', 'Liquid Lens Phase', 'Y FM maximum', 'LEDPanel color R', 'LEDPanel color G', 'LEDPanel color B']\n",
      "0\n",
      "6809\n",
      "Pixels per mm: 314.0\n",
      "...Analyzing Track 0 of Duration 111.9923722743988 s\n"
     ]
    },
    {
     "ename": "AttributeError",
     "evalue": "'gravMachineTrack' object has no attribute 'X'",
     "output_type": "error",
     "traceback": [
      "\u001b[0;31m---------------------------------------------------------------------------\u001b[0m",
      "\u001b[0;31mAttributeError\u001b[0m                            Traceback (most recent call last)",
      "\u001b[0;32m<ipython-input-45-eaf235249e74>\u001b[0m in \u001b[0;36m<module>\u001b[0;34m\u001b[0m\n\u001b[1;32m    142\u001b[0m \u001b[0;31m# #    msd1 = msdanalyzer(testFlag=0)\u001b[0m\u001b[0;34m\u001b[0m\u001b[0;34m\u001b[0m\u001b[0;34m\u001b[0m\u001b[0m\n\u001b[1;32m    143\u001b[0m \u001b[0;34m\u001b[0m\u001b[0m\n\u001b[0;32m--> 144\u001b[0;31m \u001b[0mmsd1\u001b[0m\u001b[0;34m.\u001b[0m\u001b[0mcomputeMSD\u001b[0m\u001b[0;34m(\u001b[0m\u001b[0;34m)\u001b[0m\u001b[0;34m\u001b[0m\u001b[0;34m\u001b[0m\u001b[0m\n\u001b[0m\u001b[1;32m    145\u001b[0m \u001b[0;34m\u001b[0m\u001b[0m\n\u001b[1;32m    146\u001b[0m \u001b[0mmsd1\u001b[0m\u001b[0;34m.\u001b[0m\u001b[0mplotMSD\u001b[0m\u001b[0;34m(\u001b[0m\u001b[0mfigname\u001b[0m \u001b[0;34m=\u001b[0m \u001b[0;36m1\u001b[0m\u001b[0;34m,\u001b[0m \u001b[0msaveFolder\u001b[0m \u001b[0;34m=\u001b[0m \u001b[0msaveFolder\u001b[0m\u001b[0;34m,\u001b[0m\u001b[0morgName\u001b[0m \u001b[0;34m=\u001b[0m \u001b[0morgName\u001b[0m\u001b[0;34m)\u001b[0m\u001b[0;34m\u001b[0m\u001b[0;34m\u001b[0m\u001b[0m\n",
      "\u001b[0;32m~/Dropbox/GravityMachine/GravityMachineAnalysis_Scripts/DataAnalysisScripts/msdanalyzer.py\u001b[0m in \u001b[0;36mcomputeMSD\u001b[0;34m(self)\u001b[0m\n\u001b[1;32m    264\u001b[0m     \u001b[0;32mdef\u001b[0m \u001b[0mcomputeMSD\u001b[0m\u001b[0;34m(\u001b[0m\u001b[0mself\u001b[0m\u001b[0;34m)\u001b[0m\u001b[0;34m:\u001b[0m\u001b[0;34m\u001b[0m\u001b[0;34m\u001b[0m\u001b[0m\n\u001b[1;32m    265\u001b[0m \u001b[0;34m\u001b[0m\u001b[0m\n\u001b[0;32m--> 266\u001b[0;31m         \u001b[0mSquaredDisp_X\u001b[0m\u001b[0;34m,\u001b[0m \u001b[0mSquaredDisp_Y\u001b[0m\u001b[0;34m,\u001b[0m \u001b[0mSquaredDisp_Z\u001b[0m \u001b[0;34m=\u001b[0m \u001b[0mself\u001b[0m\u001b[0;34m.\u001b[0m\u001b[0mcomputeSqDisp\u001b[0m\u001b[0;34m(\u001b[0m\u001b[0;34m)\u001b[0m\u001b[0;34m\u001b[0m\u001b[0;34m\u001b[0m\u001b[0m\n\u001b[0m\u001b[1;32m    267\u001b[0m \u001b[0;34m\u001b[0m\u001b[0m\n\u001b[1;32m    268\u001b[0m \u001b[0;34m\u001b[0m\u001b[0m\n",
      "\u001b[0;32m~/Dropbox/GravityMachine/GravityMachineAnalysis_Scripts/DataAnalysisScripts/msdanalyzer.py\u001b[0m in \u001b[0;36mcomputeSqDisp\u001b[0;34m(self)\u001b[0m\n\u001b[1;32m    225\u001b[0m             \u001b[0mTimeArray\u001b[0m \u001b[0;34m=\u001b[0m \u001b[0mcurrTrack\u001b[0m\u001b[0;34m.\u001b[0m\u001b[0mT\u001b[0m\u001b[0;34m\u001b[0m\u001b[0;34m\u001b[0m\u001b[0m\n\u001b[1;32m    226\u001b[0m \u001b[0;34m\u001b[0m\u001b[0m\n\u001b[0;32m--> 227\u001b[0;31m             \u001b[0mfunc_X\u001b[0m \u001b[0;34m=\u001b[0m \u001b[0minterpolate\u001b[0m\u001b[0;34m.\u001b[0m\u001b[0minterp1d\u001b[0m\u001b[0;34m(\u001b[0m\u001b[0mcurrTrack\u001b[0m\u001b[0;34m.\u001b[0m\u001b[0mT\u001b[0m\u001b[0;34m,\u001b[0m\u001b[0mcurrTrack\u001b[0m\u001b[0;34m.\u001b[0m\u001b[0mX\u001b[0m\u001b[0;34m,\u001b[0m \u001b[0mkind\u001b[0m \u001b[0;34m=\u001b[0m \u001b[0;34m'linear'\u001b[0m\u001b[0;34m)\u001b[0m\u001b[0;34m\u001b[0m\u001b[0;34m\u001b[0m\u001b[0m\n\u001b[0m\u001b[1;32m    228\u001b[0m             \u001b[0mfunc_Y\u001b[0m \u001b[0;34m=\u001b[0m \u001b[0minterpolate\u001b[0m\u001b[0;34m.\u001b[0m\u001b[0minterp1d\u001b[0m\u001b[0;34m(\u001b[0m\u001b[0mcurrTrack\u001b[0m\u001b[0;34m.\u001b[0m\u001b[0mT\u001b[0m\u001b[0;34m,\u001b[0m\u001b[0mcurrTrack\u001b[0m\u001b[0;34m.\u001b[0m\u001b[0mY\u001b[0m\u001b[0;34m,\u001b[0m\u001b[0mkind\u001b[0m \u001b[0;34m=\u001b[0m \u001b[0;34m'linear'\u001b[0m\u001b[0;34m)\u001b[0m\u001b[0;34m\u001b[0m\u001b[0;34m\u001b[0m\u001b[0m\n\u001b[1;32m    229\u001b[0m             \u001b[0mfunc_Z\u001b[0m \u001b[0;34m=\u001b[0m \u001b[0minterpolate\u001b[0m\u001b[0;34m.\u001b[0m\u001b[0minterp1d\u001b[0m\u001b[0;34m(\u001b[0m\u001b[0mcurrTrack\u001b[0m\u001b[0;34m.\u001b[0m\u001b[0mT\u001b[0m\u001b[0;34m,\u001b[0m\u001b[0mcurrTrack\u001b[0m\u001b[0;34m.\u001b[0m\u001b[0mZ\u001b[0m\u001b[0;34m,\u001b[0m\u001b[0mkind\u001b[0m \u001b[0;34m=\u001b[0m \u001b[0;34m'linear'\u001b[0m\u001b[0;34m)\u001b[0m\u001b[0;34m\u001b[0m\u001b[0;34m\u001b[0m\u001b[0m\n",
      "\u001b[0;31mAttributeError\u001b[0m: 'gravMachineTrack' object has no attribute 'X'"
     ]
    }
   ],
   "source": [
    "import GravityMachineTrack\n",
    "import imp\n",
    "import msdanalyzer\n",
    "import pandas as pd\n",
    "import numpy as np\n",
    "import os\n",
    "imp.reload(GravityMachineTrack)\n",
    "imp.reload(msdanalyzer)\n",
    "    \n",
    "    #--------------------------------------------------------------------------\n",
    "    # Dendraster\n",
    "    #--------------------------------------------------------------------------\n",
    "#    dataFolder = '/Volumes/GRAVMACH1/HopkinsEmbroyologyCourse_GoodData/2018_06_11/Dendraster_starved_11Days_nofood'\n",
    "#    TrackNames = {0:['Dendraster1',87,417], 1:['Dendraster2',0,0], 2:['Dendraster3',0,0]}     \n",
    "        \n",
    "    \n",
    "#    dataFolder = '/Volumes/GRAVMACH1/HopkinsEmbroyologyCourse_GoodData/2018_06_11/Dendraster_starved_11Days_withfood'\n",
    "#    TrackNames = {0:['Dendraster1',87,417], 1:['Dendraster2',0,0], 0:['Dendraster3',0,0]}     \n",
    "\n",
    "#    dataFolder = '/Volumes/GRAVMACH1/HopkinsEmbroyologyCourse_GoodData/2018_06_11/Dendraster_well_fed_11Days_nofood'\n",
    "#    TrackNames = {0:['Dendraster1',0,600], 1:['Dendraster2',0,200], 2:['Dendraster3',0,0]}     \n",
    "\n",
    "    #--------------------------------------------------------------------------\n",
    "    # Sea cucumber\n",
    "    #--------------------------------------------------------------------------\n",
    "#    dataFolder = '/Volumes/GRAVMACH1/HopkinsEmbroyologyCourse_GoodData/2018_06_07/SeaCucumber'\n",
    "    \n",
    "#    TrackNames = {0:['seacucmber4_auto_verylong_goodtrack', 0,0], 1:['seacucmber9_Auto', 0,0]}\n",
    "    \n",
    "#    TrackNames = {0:['seacucmber4_auto_verylong_goodtrack', 0,0]}\n",
    "    \n",
    "    \n",
    "    #--------------------------------------------------------------------------\n",
    "    # Sea Urchin\n",
    "    #--------------------------------------------------------------------------\n",
    "#    dataFolder = '/Volumes/GRAVMACH1/HopkinsEmbroyologyCourse_GoodData/2018_06_06/SeaUrchin'\n",
    "\n",
    "#    TrackNames = {0: ['SeaUrchin5',0,0],1: ['SeaUrchin7',0,500],2: ['SeaUrchin8',0,0]}\n",
    "\n",
    "    #--------------------------------------------------------------------------\n",
    "    # Acorn Worm\n",
    "    #--------------------------------------------------------------------------\n",
    "#    dataFolder = '/Volumes/GRAVMACH1/HopkinsEmbroyologyCourse_GoodData/2018_06_06/AcornWorm_Experiment2_nolight'\n",
    "#    TrackNames = {0: ['AcornWorm2',0,0],1: ['AcornWorm3',0,0],2: ['AcornWorm4',0,0],3: ['AcornWorm7',0,0]}\n",
    "#    --------------------------------------------------------------------------\n",
    "    # Brittle Star\n",
    "    #--------------------------------------------------------------------------\n",
    "#    dataFolder = '/Volumes/GRAVMACH1/HopkinsEmbroyologyCourse_GoodData/BrittleStar'\n",
    "    \n",
    "#    TrackNames = {0:['BrittleStar1',0,0],1:['BrittleStar9_Long_Good_Ytracking',0,0],2:['BrittleStar10_Ytracking_Good',0,0],3:['BrittleStar12_Ytracking_Good',0,0]}\n",
    "    #--------------------------------------------------------------------------\n",
    "    # Snail\n",
    "    #--------------------------------------------------------------------------\n",
    "#    dataFolder = '/Volumes/GRAVMACH1/HopkinsEmbroyologyCourse_GoodData/2018_06_13/Snail'\n",
    "    \n",
    "#    TrackNames = {0:['snail1',0,575],1:['snail2',0,0],2:['snail4',0,0],3:['snail6',0,0],4:['snail8',0,0],5:['snail10',0,0],6:['snail13',0,0]}\n",
    "    #--------------------------------------------------------------------------\n",
    "    # Starfish\n",
    "    #--------------------------------------------------------------------------\n",
    "#    dataFolder = '/Volumes/GRAVMACH1/HopkinsEmbroyologyCourse_GoodData/2018_06_12/Starfish'\n",
    "#    TrackNames = {0:['StarFish1', 0,162],1:['StarFish6', 0,600],2:['StarFish7', 60,0],3:['StarFish9', 0,290]}\n",
    "\n",
    "    \n",
    "    # Polychaete\n",
    "    \n",
    "#     dataFolder = '/Volumes/GRAVMACH1/HopkinsEmbroyologyCourse_GoodData/2018_06_12/Polychaete_4D'\n",
    "#     TrackNames = {0:['Polychaete1',0,112],1:['Polychaete2',0,113], 2:['Polychaete3',0,37], 3:['Polychaete4',0,55], 4:['Polychaete6',0,113]}\n",
    "\n",
    "    \n",
    "    \n",
    "# #    dataFolder = '/Volumes/GRAVMACH1/HopkinsEmbroyologyCourse_GoodData/2018_06_14/Noctiluca'\n",
    "# #    \n",
    "# #    TrackNames = {0:['Noctilica6',50,0],1:['Noctilica7',0,1000]}\n",
    "# #    \n",
    "#     TrackFile = 'track_mod.csv'\n",
    "    \n",
    "#     *rest,orgName = os.path.split(dataFolder)\n",
    "#     saveFolder = '/Users/deepak/Dropbox/GravityMachine/GravityMachineManuscript/EnsembleTrackStatistics'\n",
    "    \n",
    "    \n",
    "analysis_file = '/Users/deepak/Dropbox/GravityMachine/GravityMachineAnalysis_Scripts/AnalyzeTracks.csv'\n",
    "\n",
    "analysis_df = pd.read_csv(analysis_file)\n",
    "\n",
    "\n",
    "pairwise_conditions = [(x,y) for x in analysis_df['Organism'] for y in analysis_df['Condition']]\n",
    "\n",
    "\n",
    "# Create unique pairs between the Organism and Condition columns\n",
    "used = set()\n",
    "unique_conditions = [x for x in pairwise_conditions if x not in used and (used.add(x) or True)]\n",
    "print(50*'-')\n",
    "print('Unique condition : {}'.format(unique_conditions))\n",
    "print(50*'-')\n",
    "\n",
    "ensemble_tracks = []\n",
    "TrackArray = []\n",
    "\n",
    "nUniqueConditions = len(unique_conditions)\n",
    "\n",
    "# Assemble the list of \n",
    "for ii in range(nUniqueConditions):\n",
    "    \n",
    "    curr_Organism = unique_conditions[ii][0]\n",
    "    curr_Condition = unique_conditions[ii][1]\n",
    "    \n",
    "    bool_Org = analysis_df['Organism'] == curr_Organism\n",
    "    bool_Cond = analysis_df['Condition'] == curr_Condition\n",
    "   \n",
    "    tracks_sameCondition = analysis_df[bool_Org & bool_Cond]\n",
    "    \n",
    "    nTracksSameCondition = len(tracks_sameCondition)\n",
    "    \n",
    "    for jj in range(nTracksSameCondition):\n",
    "        \n",
    "        Track_df = tracks_sameCondition.iloc[jj]\n",
    "        \n",
    "        print(Track_df)\n",
    "        full_path = os.path.join(Track_df['rootFolder'],Track_df['trackFolder'], Track_df['trackFile'])\n",
    "        \n",
    "        track = GravityMachineTrack.gravMachineTrack(trackFile = full_path , organism = Track_df['Organism'], condition = Track_df['Condition'], Tmin = Track_df['Tmin'], Tmax = Track_df['Tmax'])\n",
    "\n",
    "        TrackArray.append(track)\n",
    "    \n",
    "    \n",
    "    \n",
    "\n",
    "    \n",
    "    \n",
    "# TrackArray = []\n",
    "\n",
    "# for ii, currFolder in TrackNames.items():\n",
    "#     path = os.path.join(dataFolder, TrackNames[ii][0])\n",
    "    \n",
    "#     TrackArray.append(Track.GravMachineTrack(path, TrackFile, TrackNames[ii][1],TrackNames[ii][2]))\n",
    "\n",
    "\n",
    "\n",
    "msd1 = msdanalyzer.msdanalyzer(Tracks = TrackArray)\n",
    "\n",
    "\n",
    "# #    msd1 = msdanalyzer(testFlag=0)\n",
    "\n",
    "msd1.computeMSD()\n",
    "\n",
    "msd1.plotMSD(figname = 1, saveFolder = saveFolder,orgName = orgName)"
   ]
  },
  {
   "cell_type": "code",
   "execution_count": 25,
   "metadata": {},
   "outputs": [
    {
     "data": {
      "text/plain": [
       "3"
      ]
     },
     "execution_count": 25,
     "metadata": {},
     "output_type": "execute_result"
    }
   ],
   "source": [
    "len(unique_conditions)"
   ]
  },
  {
   "cell_type": "code",
   "execution_count": 24,
   "metadata": {},
   "outputs": [
    {
     "data": {
      "text/plain": [
       "3"
      ]
     },
     "execution_count": 24,
     "metadata": {},
     "output_type": "execute_result"
    }
   ],
   "source": [
    "len(ensemble_tracks)"
   ]
  },
  {
   "cell_type": "code",
   "execution_count": 30,
   "metadata": {},
   "outputs": [
    {
     "data": {
      "text/plain": [
       "7"
      ]
     },
     "execution_count": 30,
     "metadata": {},
     "output_type": "execute_result"
    }
   ],
   "source": [
    "\n",
    "len(analysis_df)"
   ]
  },
  {
   "cell_type": "code",
   "execution_count": 31,
   "metadata": {},
   "outputs": [
    {
     "data": {
      "text/html": [
       "<div>\n",
       "<style scoped>\n",
       "    .dataframe tbody tr th:only-of-type {\n",
       "        vertical-align: middle;\n",
       "    }\n",
       "\n",
       "    .dataframe tbody tr th {\n",
       "        vertical-align: top;\n",
       "    }\n",
       "\n",
       "    .dataframe thead th {\n",
       "        text-align: right;\n",
       "    }\n",
       "</style>\n",
       "<table border=\"1\" class=\"dataframe\">\n",
       "  <thead>\n",
       "    <tr style=\"text-align: right;\">\n",
       "      <th></th>\n",
       "      <th>Organism</th>\n",
       "      <th>Condition</th>\n",
       "      <th>Folder</th>\n",
       "      <th>Track</th>\n",
       "      <th>Tmin</th>\n",
       "      <th>Tmax</th>\n",
       "    </tr>\n",
       "  </thead>\n",
       "  <tbody>\n",
       "    <tr>\n",
       "      <th>0</th>\n",
       "      <td>Polychaete</td>\n",
       "      <td>Day</td>\n",
       "      <td>/Volumes/GRAVMACH1/HopkinsEmbroyologyCourse_Go...</td>\n",
       "      <td>Polychaete1</td>\n",
       "      <td>0.0</td>\n",
       "      <td>112.0</td>\n",
       "    </tr>\n",
       "    <tr>\n",
       "      <th>1</th>\n",
       "      <td>Polychaete</td>\n",
       "      <td>Day</td>\n",
       "      <td>/Volumes/GRAVMACH1/HopkinsEmbroyologyCourse_Go...</td>\n",
       "      <td>Polychaete2</td>\n",
       "      <td>0.0</td>\n",
       "      <td>113.0</td>\n",
       "    </tr>\n",
       "    <tr>\n",
       "      <th>2</th>\n",
       "      <td>Polychaete</td>\n",
       "      <td>Day</td>\n",
       "      <td>/Volumes/GRAVMACH1/HopkinsEmbroyologyCourse_Go...</td>\n",
       "      <td>Polychaete3</td>\n",
       "      <td>0.0</td>\n",
       "      <td>37.0</td>\n",
       "    </tr>\n",
       "    <tr>\n",
       "      <th>3</th>\n",
       "      <td>Polychaete</td>\n",
       "      <td>Day</td>\n",
       "      <td>/Volumes/GRAVMACH1/HopkinsEmbroyologyCourse_Go...</td>\n",
       "      <td>Polychaete4</td>\n",
       "      <td>0.0</td>\n",
       "      <td>55.0</td>\n",
       "    </tr>\n",
       "    <tr>\n",
       "      <th>4</th>\n",
       "      <td>Polychaete</td>\n",
       "      <td>Day</td>\n",
       "      <td>/Volumes/GRAVMACH1/HopkinsEmbroyologyCourse_Go...</td>\n",
       "      <td>Polychaete6</td>\n",
       "      <td>0.0</td>\n",
       "      <td>113.0</td>\n",
       "    </tr>\n",
       "    <tr>\n",
       "      <th>5</th>\n",
       "      <td>Polychaete</td>\n",
       "      <td>Night</td>\n",
       "      <td>NaN</td>\n",
       "      <td>NaN</td>\n",
       "      <td>NaN</td>\n",
       "      <td>NaN</td>\n",
       "    </tr>\n",
       "    <tr>\n",
       "      <th>6</th>\n",
       "      <td>Polychaete</td>\n",
       "      <td>Normal</td>\n",
       "      <td>NaN</td>\n",
       "      <td>NaN</td>\n",
       "      <td>NaN</td>\n",
       "      <td>NaN</td>\n",
       "    </tr>\n",
       "  </tbody>\n",
       "</table>\n",
       "</div>"
      ],
      "text/plain": [
       "     Organism Condition                                             Folder  \\\n",
       "0  Polychaete       Day  /Volumes/GRAVMACH1/HopkinsEmbroyologyCourse_Go...   \n",
       "1  Polychaete       Day  /Volumes/GRAVMACH1/HopkinsEmbroyologyCourse_Go...   \n",
       "2  Polychaete       Day  /Volumes/GRAVMACH1/HopkinsEmbroyologyCourse_Go...   \n",
       "3  Polychaete       Day  /Volumes/GRAVMACH1/HopkinsEmbroyologyCourse_Go...   \n",
       "4  Polychaete       Day  /Volumes/GRAVMACH1/HopkinsEmbroyologyCourse_Go...   \n",
       "5  Polychaete     Night                                                NaN   \n",
       "6  Polychaete    Normal                                                NaN   \n",
       "\n",
       "         Track  Tmin   Tmax  \n",
       "0  Polychaete1   0.0  112.0  \n",
       "1  Polychaete2   0.0  113.0  \n",
       "2  Polychaete3   0.0   37.0  \n",
       "3  Polychaete4   0.0   55.0  \n",
       "4  Polychaete6   0.0  113.0  \n",
       "5          NaN   NaN    NaN  \n",
       "6          NaN   NaN    NaN  "
      ]
     },
     "execution_count": 31,
     "metadata": {},
     "output_type": "execute_result"
    }
   ],
   "source": [
    "analysis_df"
   ]
  },
  {
   "cell_type": "code",
   "execution_count": 33,
   "metadata": {},
   "outputs": [
    {
     "ename": "KeyError",
     "evalue": "0",
     "output_type": "error",
     "traceback": [
      "\u001b[0;31m---------------------------------------------------------------------------\u001b[0m",
      "\u001b[0;31mKeyError\u001b[0m                                  Traceback (most recent call last)",
      "\u001b[0;32m~/anaconda3/lib/python3.7/site-packages/pandas/core/indexes/base.py\u001b[0m in \u001b[0;36mget_loc\u001b[0;34m(self, key, method, tolerance)\u001b[0m\n\u001b[1;32m   2656\u001b[0m             \u001b[0;32mtry\u001b[0m\u001b[0;34m:\u001b[0m\u001b[0;34m\u001b[0m\u001b[0;34m\u001b[0m\u001b[0m\n\u001b[0;32m-> 2657\u001b[0;31m                 \u001b[0;32mreturn\u001b[0m \u001b[0mself\u001b[0m\u001b[0;34m.\u001b[0m\u001b[0m_engine\u001b[0m\u001b[0;34m.\u001b[0m\u001b[0mget_loc\u001b[0m\u001b[0;34m(\u001b[0m\u001b[0mkey\u001b[0m\u001b[0;34m)\u001b[0m\u001b[0;34m\u001b[0m\u001b[0;34m\u001b[0m\u001b[0m\n\u001b[0m\u001b[1;32m   2658\u001b[0m             \u001b[0;32mexcept\u001b[0m \u001b[0mKeyError\u001b[0m\u001b[0;34m:\u001b[0m\u001b[0;34m\u001b[0m\u001b[0;34m\u001b[0m\u001b[0m\n",
      "\u001b[0;32mpandas/_libs/index.pyx\u001b[0m in \u001b[0;36mpandas._libs.index.IndexEngine.get_loc\u001b[0;34m()\u001b[0m\n",
      "\u001b[0;32mpandas/_libs/index.pyx\u001b[0m in \u001b[0;36mpandas._libs.index.IndexEngine.get_loc\u001b[0;34m()\u001b[0m\n",
      "\u001b[0;32mpandas/_libs/hashtable_class_helper.pxi\u001b[0m in \u001b[0;36mpandas._libs.hashtable.PyObjectHashTable.get_item\u001b[0;34m()\u001b[0m\n",
      "\u001b[0;32mpandas/_libs/hashtable_class_helper.pxi\u001b[0m in \u001b[0;36mpandas._libs.hashtable.PyObjectHashTable.get_item\u001b[0;34m()\u001b[0m\n",
      "\u001b[0;31mKeyError\u001b[0m: 0",
      "\nDuring handling of the above exception, another exception occurred:\n",
      "\u001b[0;31mKeyError\u001b[0m                                  Traceback (most recent call last)",
      "\u001b[0;32m<ipython-input-33-f96cf65084e5>\u001b[0m in \u001b[0;36m<module>\u001b[0;34m\u001b[0m\n\u001b[0;32m----> 1\u001b[0;31m \u001b[0manalysis_df\u001b[0m\u001b[0;34m[\u001b[0m\u001b[0;36m0\u001b[0m\u001b[0;34m]\u001b[0m\u001b[0;34m\u001b[0m\u001b[0;34m\u001b[0m\u001b[0m\n\u001b[0m",
      "\u001b[0;32m~/anaconda3/lib/python3.7/site-packages/pandas/core/frame.py\u001b[0m in \u001b[0;36m__getitem__\u001b[0;34m(self, key)\u001b[0m\n\u001b[1;32m   2925\u001b[0m             \u001b[0;32mif\u001b[0m \u001b[0mself\u001b[0m\u001b[0;34m.\u001b[0m\u001b[0mcolumns\u001b[0m\u001b[0;34m.\u001b[0m\u001b[0mnlevels\u001b[0m \u001b[0;34m>\u001b[0m \u001b[0;36m1\u001b[0m\u001b[0;34m:\u001b[0m\u001b[0;34m\u001b[0m\u001b[0;34m\u001b[0m\u001b[0m\n\u001b[1;32m   2926\u001b[0m                 \u001b[0;32mreturn\u001b[0m \u001b[0mself\u001b[0m\u001b[0;34m.\u001b[0m\u001b[0m_getitem_multilevel\u001b[0m\u001b[0;34m(\u001b[0m\u001b[0mkey\u001b[0m\u001b[0;34m)\u001b[0m\u001b[0;34m\u001b[0m\u001b[0;34m\u001b[0m\u001b[0m\n\u001b[0;32m-> 2927\u001b[0;31m             \u001b[0mindexer\u001b[0m \u001b[0;34m=\u001b[0m \u001b[0mself\u001b[0m\u001b[0;34m.\u001b[0m\u001b[0mcolumns\u001b[0m\u001b[0;34m.\u001b[0m\u001b[0mget_loc\u001b[0m\u001b[0;34m(\u001b[0m\u001b[0mkey\u001b[0m\u001b[0;34m)\u001b[0m\u001b[0;34m\u001b[0m\u001b[0;34m\u001b[0m\u001b[0m\n\u001b[0m\u001b[1;32m   2928\u001b[0m             \u001b[0;32mif\u001b[0m \u001b[0mis_integer\u001b[0m\u001b[0;34m(\u001b[0m\u001b[0mindexer\u001b[0m\u001b[0;34m)\u001b[0m\u001b[0;34m:\u001b[0m\u001b[0;34m\u001b[0m\u001b[0;34m\u001b[0m\u001b[0m\n\u001b[1;32m   2929\u001b[0m                 \u001b[0mindexer\u001b[0m \u001b[0;34m=\u001b[0m \u001b[0;34m[\u001b[0m\u001b[0mindexer\u001b[0m\u001b[0;34m]\u001b[0m\u001b[0;34m\u001b[0m\u001b[0;34m\u001b[0m\u001b[0m\n",
      "\u001b[0;32m~/anaconda3/lib/python3.7/site-packages/pandas/core/indexes/base.py\u001b[0m in \u001b[0;36mget_loc\u001b[0;34m(self, key, method, tolerance)\u001b[0m\n\u001b[1;32m   2657\u001b[0m                 \u001b[0;32mreturn\u001b[0m \u001b[0mself\u001b[0m\u001b[0;34m.\u001b[0m\u001b[0m_engine\u001b[0m\u001b[0;34m.\u001b[0m\u001b[0mget_loc\u001b[0m\u001b[0;34m(\u001b[0m\u001b[0mkey\u001b[0m\u001b[0;34m)\u001b[0m\u001b[0;34m\u001b[0m\u001b[0;34m\u001b[0m\u001b[0m\n\u001b[1;32m   2658\u001b[0m             \u001b[0;32mexcept\u001b[0m \u001b[0mKeyError\u001b[0m\u001b[0;34m:\u001b[0m\u001b[0;34m\u001b[0m\u001b[0;34m\u001b[0m\u001b[0m\n\u001b[0;32m-> 2659\u001b[0;31m                 \u001b[0;32mreturn\u001b[0m \u001b[0mself\u001b[0m\u001b[0;34m.\u001b[0m\u001b[0m_engine\u001b[0m\u001b[0;34m.\u001b[0m\u001b[0mget_loc\u001b[0m\u001b[0;34m(\u001b[0m\u001b[0mself\u001b[0m\u001b[0;34m.\u001b[0m\u001b[0m_maybe_cast_indexer\u001b[0m\u001b[0;34m(\u001b[0m\u001b[0mkey\u001b[0m\u001b[0;34m)\u001b[0m\u001b[0;34m)\u001b[0m\u001b[0;34m\u001b[0m\u001b[0;34m\u001b[0m\u001b[0m\n\u001b[0m\u001b[1;32m   2660\u001b[0m         \u001b[0mindexer\u001b[0m \u001b[0;34m=\u001b[0m \u001b[0mself\u001b[0m\u001b[0;34m.\u001b[0m\u001b[0mget_indexer\u001b[0m\u001b[0;34m(\u001b[0m\u001b[0;34m[\u001b[0m\u001b[0mkey\u001b[0m\u001b[0;34m]\u001b[0m\u001b[0;34m,\u001b[0m \u001b[0mmethod\u001b[0m\u001b[0;34m=\u001b[0m\u001b[0mmethod\u001b[0m\u001b[0;34m,\u001b[0m \u001b[0mtolerance\u001b[0m\u001b[0;34m=\u001b[0m\u001b[0mtolerance\u001b[0m\u001b[0;34m)\u001b[0m\u001b[0;34m\u001b[0m\u001b[0;34m\u001b[0m\u001b[0m\n\u001b[1;32m   2661\u001b[0m         \u001b[0;32mif\u001b[0m \u001b[0mindexer\u001b[0m\u001b[0;34m.\u001b[0m\u001b[0mndim\u001b[0m \u001b[0;34m>\u001b[0m \u001b[0;36m1\u001b[0m \u001b[0;32mor\u001b[0m \u001b[0mindexer\u001b[0m\u001b[0;34m.\u001b[0m\u001b[0msize\u001b[0m \u001b[0;34m>\u001b[0m \u001b[0;36m1\u001b[0m\u001b[0;34m:\u001b[0m\u001b[0;34m\u001b[0m\u001b[0;34m\u001b[0m\u001b[0m\n",
      "\u001b[0;32mpandas/_libs/index.pyx\u001b[0m in \u001b[0;36mpandas._libs.index.IndexEngine.get_loc\u001b[0;34m()\u001b[0m\n",
      "\u001b[0;32mpandas/_libs/index.pyx\u001b[0m in \u001b[0;36mpandas._libs.index.IndexEngine.get_loc\u001b[0;34m()\u001b[0m\n",
      "\u001b[0;32mpandas/_libs/hashtable_class_helper.pxi\u001b[0m in \u001b[0;36mpandas._libs.hashtable.PyObjectHashTable.get_item\u001b[0;34m()\u001b[0m\n",
      "\u001b[0;32mpandas/_libs/hashtable_class_helper.pxi\u001b[0m in \u001b[0;36mpandas._libs.hashtable.PyObjectHashTable.get_item\u001b[0;34m()\u001b[0m\n",
      "\u001b[0;31mKeyError\u001b[0m: 0"
     ]
    }
   ],
   "source": []
  },
  {
   "cell_type": "code",
   "execution_count": 38,
   "metadata": {},
   "outputs": [],
   "source": [
    "A = analysis_df.iloc[0]\n"
   ]
  },
  {
   "cell_type": "code",
   "execution_count": 39,
   "metadata": {},
   "outputs": [
    {
     "data": {
      "text/plain": [
       "Organism                                              Polychaete\n",
       "Condition                                                    Day\n",
       "rootFolder     /Volumes/GRAVMACH1/HopkinsEmbroyologyCourse_Go...\n",
       "trackFolder                                          Polychaete1\n",
       "trackFile                                          track_mod.csv\n",
       "Tmin                                                           0\n",
       "Tmax                                                         112\n",
       "Name: 0, dtype: object"
      ]
     },
     "execution_count": 39,
     "metadata": {},
     "output_type": "execute_result"
    }
   ],
   "source": [
    "A"
   ]
  },
  {
   "cell_type": "code",
   "execution_count": 40,
   "metadata": {},
   "outputs": [
    {
     "data": {
      "text/plain": [
       "'Polychaete'"
      ]
     },
     "execution_count": 40,
     "metadata": {},
     "output_type": "execute_result"
    }
   ],
   "source": [
    "A['Organism']"
   ]
  },
  {
   "cell_type": "code",
   "execution_count": null,
   "metadata": {},
   "outputs": [],
   "source": []
  }
 ],
 "metadata": {
  "kernelspec": {
   "display_name": "Python 3",
   "language": "python",
   "name": "python3"
  },
  "language_info": {
   "codemirror_mode": {
    "name": "ipython",
    "version": 3
   },
   "file_extension": ".py",
   "mimetype": "text/x-python",
   "name": "python",
   "nbconvert_exporter": "python",
   "pygments_lexer": "ipython3",
   "version": "3.7.3"
  }
 },
 "nbformat": 4,
 "nbformat_minor": 2
}
