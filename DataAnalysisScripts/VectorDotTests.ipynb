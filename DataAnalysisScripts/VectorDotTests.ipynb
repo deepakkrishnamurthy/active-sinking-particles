{
 "cells": [
  {
   "cell_type": "code",
   "execution_count": 46,
   "metadata": {},
   "outputs": [
    {
     "name": "stdout",
     "output_type": "stream",
     "text": [
      "(3,)\n"
     ]
    },
    {
     "ename": "IndexError",
     "evalue": "too many indices for array",
     "output_type": "error",
     "traceback": [
      "\u001b[0;31m---------------------------------------------------------------------------\u001b[0m",
      "\u001b[0;31mIndexError\u001b[0m                                Traceback (most recent call last)",
      "\u001b[0;32m<ipython-input-46-7f1ffc28417e>\u001b[0m in \u001b[0;36m<module>\u001b[0;34m\u001b[0m\n\u001b[1;32m     56\u001b[0m \u001b[0;34m\u001b[0m\u001b[0m\n\u001b[1;32m     57\u001b[0m \u001b[0;34m\u001b[0m\u001b[0m\n\u001b[0;32m---> 58\u001b[0;31m \u001b[0mdotproduct\u001b[0m \u001b[0;34m=\u001b[0m \u001b[0mvector_dot\u001b[0m\u001b[0;34m(\u001b[0m\u001b[0mvector\u001b[0m\u001b[0;34m,\u001b[0m \u001b[0mg_vector\u001b[0m\u001b[0;34m)\u001b[0m\u001b[0;34m\u001b[0m\u001b[0;34m\u001b[0m\u001b[0m\n\u001b[0m\u001b[1;32m     59\u001b[0m \u001b[0;34m\u001b[0m\u001b[0m\n\u001b[1;32m     60\u001b[0m \u001b[0mprint\u001b[0m\u001b[0;34m(\u001b[0m\u001b[0mdotproduct\u001b[0m\u001b[0;34m**\u001b[0m\u001b[0;34m(\u001b[0m\u001b[0;36m1\u001b[0m\u001b[0;34m/\u001b[0m\u001b[0;36m2\u001b[0m\u001b[0;34m)\u001b[0m\u001b[0;34m)\u001b[0m\u001b[0;34m\u001b[0m\u001b[0;34m\u001b[0m\u001b[0m\n",
      "\u001b[0;32m<ipython-input-46-7f1ffc28417e>\u001b[0m in \u001b[0;36mvector_dot\u001b[0;34m(vec_a, vec_b)\u001b[0m\n\u001b[1;32m     32\u001b[0m     \u001b[0mresult\u001b[0m \u001b[0;34m=\u001b[0m \u001b[0mnp\u001b[0m\u001b[0;34m.\u001b[0m\u001b[0mzeros\u001b[0m\u001b[0;34m(\u001b[0m\u001b[0;34m(\u001b[0m\u001b[0;36m1\u001b[0m\u001b[0;34m,\u001b[0m \u001b[0mmax\u001b[0m\u001b[0;34m(\u001b[0m\u001b[0mLenA\u001b[0m\u001b[0;34m,\u001b[0m \u001b[0mLenB\u001b[0m\u001b[0;34m)\u001b[0m\u001b[0;34m)\u001b[0m\u001b[0;34m)\u001b[0m\u001b[0;34m\u001b[0m\u001b[0;34m\u001b[0m\u001b[0m\n\u001b[1;32m     33\u001b[0m \u001b[0;34m\u001b[0m\u001b[0m\n\u001b[0;32m---> 34\u001b[0;31m     \u001b[0mresult\u001b[0m \u001b[0;34m=\u001b[0m \u001b[0mvec_a\u001b[0m\u001b[0;34m[\u001b[0m\u001b[0;36m0\u001b[0m\u001b[0;34m,\u001b[0m\u001b[0;34m:\u001b[0m\u001b[0;34m]\u001b[0m\u001b[0;34m*\u001b[0m\u001b[0mvec_b\u001b[0m\u001b[0;34m[\u001b[0m\u001b[0;36m0\u001b[0m\u001b[0;34m,\u001b[0m\u001b[0;34m:\u001b[0m\u001b[0;34m]\u001b[0m \u001b[0;34m+\u001b[0m \u001b[0mvec_a\u001b[0m\u001b[0;34m[\u001b[0m\u001b[0;36m1\u001b[0m\u001b[0;34m,\u001b[0m\u001b[0;34m:\u001b[0m\u001b[0;34m]\u001b[0m\u001b[0;34m*\u001b[0m\u001b[0mvec_b\u001b[0m\u001b[0;34m[\u001b[0m\u001b[0;36m1\u001b[0m\u001b[0;34m,\u001b[0m\u001b[0;34m:\u001b[0m\u001b[0;34m]\u001b[0m \u001b[0;34m+\u001b[0m \u001b[0mvec_a\u001b[0m\u001b[0;34m[\u001b[0m\u001b[0;36m2\u001b[0m\u001b[0;34m,\u001b[0m\u001b[0;34m:\u001b[0m\u001b[0;34m]\u001b[0m\u001b[0;34m*\u001b[0m\u001b[0mvec_b\u001b[0m\u001b[0;34m[\u001b[0m\u001b[0;36m2\u001b[0m\u001b[0;34m,\u001b[0m\u001b[0;34m:\u001b[0m\u001b[0;34m]\u001b[0m\u001b[0;34m\u001b[0m\u001b[0;34m\u001b[0m\u001b[0m\n\u001b[0m\u001b[1;32m     35\u001b[0m \u001b[0;34m\u001b[0m\u001b[0m\n\u001b[1;32m     36\u001b[0m \u001b[0;34m\u001b[0m\u001b[0m\n",
      "\u001b[0;31mIndexError\u001b[0m: too many indices for array"
     ]
    }
   ],
   "source": [
    "# -*- coding: utf-8 -*-\n",
    "\"\"\"\n",
    "Created on Fri Sep 21 14:45:49 2018\n",
    "Mean-Squared-Displacement Analyzer for multiple tracks\n",
    "@author: deepak90\n",
    "\"\"\"\n",
    "import numpy as np\n",
    "# import Track\n",
    "import os\n",
    "import imp\n",
    "import matplotlib.pyplot as plt\n",
    "import scipy.interpolate as interpolate\n",
    "from cycler import cycler\n",
    "import pandas as pd\n",
    "\n",
    "def vector_dot(vec_a, vec_b):\n",
    "    # General dot product between arrays of vectors\n",
    "    try:\n",
    "        nDimsA, LenA = np.shape(vec_a)\n",
    "    except:\n",
    "        nDimsA = len(vec_a)\n",
    "        LenA = 1\n",
    "    try:\n",
    "        nDimsB, LenB = np.shape(vec_b)\n",
    "    except: \n",
    "        nDimsB = len(vec_b)\n",
    "        LenB = 1\n",
    "    \n",
    "    assert(nDimsA == nDimsB)\n",
    "    assert(LenA==LenB or LenA==1 or LenB==1)\n",
    "    \n",
    "    result = np.zeros((1, max(LenA, LenB)))\n",
    "    \n",
    "    result = vec_a[0,:]*vec_b[0,:] + vec_a[1,:]*vec_b[1,:] + vec_a[2,:]*vec_b[2,:]\n",
    "    \n",
    "    \n",
    "    return result\n",
    "        \n",
    "        \n",
    "    \n",
    "\n",
    "vector = np.random.normal(0,1, (3,100))\n",
    "\n",
    "vector_mag = (vector[0,:]**2 + vector[1,:]**2 + vector[2,:]**2 )**(1/2)\n",
    "\n",
    "vector_unit = np.zeros_like(vector)\n",
    "\n",
    "vector_unit[0,:] = vector[0,:]/vector_mag\n",
    "vector_unit[1,:] = vector[1,:]/vector_mag\n",
    "vector_unit[2,:] = vector[2,:]/vector_mag\n",
    "\n",
    "g_vector = [0,0,1]\n",
    "g_vector= np.transpose(g_vector)\n",
    "\n",
    "print(np.shape(g_vector))\n",
    "\n",
    "\n",
    "dotproduct = vector_dot(vector, g_vector)\n",
    "\n",
    "print(dotproduct**(1/2))\n",
    "\n"
   ]
  },
  {
   "cell_type": "code",
   "execution_count": 31,
   "metadata": {},
   "outputs": [
    {
     "name": "stdout",
     "output_type": "stream",
     "text": [
      "[0.47648655 0.55645164 0.01716867]\n"
     ]
    }
   ],
   "source": [
    "a = np.random.rand(3,)\n",
    "b = np.random.rand(3,)\n",
    "print(a)"
   ]
  },
  {
   "cell_type": "code",
   "execution_count": 17,
   "metadata": {},
   "outputs": [
    {
     "name": "stdout",
     "output_type": "stream",
     "text": [
      "(3, 10)\n"
     ]
    }
   ],
   "source": [
    "print(np.shape(a))"
   ]
  },
  {
   "cell_type": "code",
   "execution_count": 32,
   "metadata": {},
   "outputs": [
    {
     "name": "stdout",
     "output_type": "stream",
     "text": [
      "0.3181706842324888\n",
      "()\n"
     ]
    }
   ],
   "source": [
    "C = np.dot(a, b)\n",
    "print(C)\n",
    "print(np.shape(C))"
   ]
  },
  {
   "cell_type": "code",
   "execution_count": 21,
   "metadata": {},
   "outputs": [],
   "source": [
    "D = np.inner(a,b)"
   ]
  },
  {
   "cell_type": "code",
   "execution_count": 22,
   "metadata": {},
   "outputs": [
    {
     "name": "stdout",
     "output_type": "stream",
     "text": [
      "[[3.25520186 3.04354253 1.87873528]\n",
      " [2.70585691 2.61184038 1.69592979]\n",
      " [2.92160474 3.15511245 1.98104978]]\n"
     ]
    }
   ],
   "source": [
    "print(D)"
   ]
  },
  {
   "cell_type": "code",
   "execution_count": 30,
   "metadata": {},
   "outputs": [
    {
     "name": "stdout",
     "output_type": "stream",
     "text": [
      "[[0.09087913 0.21962502 0.16842207 0.20575282 0.16699098 0.18880674\n",
      "  0.22847932 0.19380819 0.13698594 0.23385144]\n",
      " [0.3801893  1.27763944 0.61732982 1.04392723 0.51975806 0.83976999\n",
      "  1.22655607 1.17069293 0.84460172 1.00936379]\n",
      " [0.82926602 1.72496655 0.90442468 1.32762478 1.28540943 1.31216607\n",
      "  1.58796683 1.71502265 1.41797243 1.60833146]\n",
      " [0.21276449 0.30391645 0.06132252 0.15091672 0.28870227 0.20881479\n",
      "  0.21922461 0.36706845 0.36958643 0.25427139]\n",
      " [0.3346835  0.41834974 0.21894448 0.269721   0.54209169 0.37749638\n",
      "  0.34393691 0.48260098 0.47772576 0.47210611]\n",
      " [0.59658476 0.92890368 0.75583816 0.8128711  1.0960596  0.91615216\n",
      "  0.91896086 0.91135471 0.76811755 1.15102863]\n",
      " [0.75567409 1.47326254 0.98075817 1.23661445 1.29197235 1.25242598\n",
      "  1.42686452 1.42102623 1.14570729 1.55201736]\n",
      " [0.3856832  0.90328374 0.48536669 0.72097506 0.59561534 0.67174027\n",
      "  0.85126857 0.87008155 0.68757511 0.8206931 ]\n",
      " [0.55700639 1.01014095 0.5647267  0.770066   0.8948852  0.81882993\n",
      "  0.92233816 1.02852935 0.88277613 1.01097199]\n",
      " [0.34722386 1.16280497 0.37592035 0.84146624 0.3749065  0.66609752\n",
      "  1.03992101 1.12619519 0.87056376 0.78626599]]\n",
      "(10, 10)\n"
     ]
    }
   ],
   "source": []
  },
  {
   "cell_type": "code",
   "execution_count": null,
   "metadata": {},
   "outputs": [],
   "source": []
  }
 ],
 "metadata": {
  "kernelspec": {
   "display_name": "Python 3",
   "language": "python",
   "name": "python3"
  },
  "language_info": {
   "codemirror_mode": {
    "name": "ipython",
    "version": 3
   },
   "file_extension": ".py",
   "mimetype": "text/x-python",
   "name": "python",
   "nbconvert_exporter": "python",
   "pygments_lexer": "ipython3",
   "version": "3.7.3"
  }
 },
 "nbformat": 4,
 "nbformat_minor": 2
}
